{
 "cells": [
  {
   "cell_type": "code",
   "execution_count": 121,
   "metadata": {
    "collapsed": false
   },
   "outputs": [],
   "source": [
    "import pandas as pd\n",
    "from scipy.cluster.hierarchy import dendrogram, linkage\n",
    "from geopy.distance import vincenty\n",
    "from scipy import spatial\n",
    "import networkx as nx\n",
    "import matplotlib.pyplot as plt\n",
    "from functions import *\n",
    "import Parameters as P"
   ]
  },
  {
   "cell_type": "code",
   "execution_count": 122,
   "metadata": {
    "collapsed": true
   },
   "outputs": [],
   "source": [
    "data_all = pd.read_csv('../GIS_data/building_all_null.csv')"
   ]
  },
  {
   "cell_type": "code",
   "execution_count": null,
   "metadata": {
    "collapsed": true
   },
   "outputs": [],
   "source": [
    "data_all=pd.DataFrame()"
   ]
  },
  {
   "cell_type": "code",
   "execution_count": 123,
   "metadata": {
    "collapsed": true
   },
   "outputs": [],
   "source": [
    "in_builing_piping_sf = 0.01"
   ]
  },
  {
   "cell_type": "code",
   "execution_count": 124,
   "metadata": {
    "collapsed": true
   },
   "outputs": [],
   "source": [
    "data_all['lat_lon'] = data_all.apply(lambda row: (row['y_lat'], row['x_lon']), axis=1)"
   ]
  },
  {
   "cell_type": "code",
   "execution_count": 125,
   "metadata": {
    "collapsed": true
   },
   "outputs": [],
   "source": [
    "if len(data_all)>1000:\n",
    "    k = 1000\n",
    "else:\n",
    "    k = len(data_all)"
   ]
  },
  {
   "cell_type": "code",
   "execution_count": 170,
   "metadata": {
    "collapsed": false
   },
   "outputs": [],
   "source": [
    "X_lat_lon = list(data_all['lat_lon'])\n",
    "low = (37.780844, -122.407107)\n",
    "medium = (37.77424300000, -122.43476500000)\n",
    "high = (37.750458, -122.453315)\n",
    "\n",
    "query_point = medium\n",
    "tree = spatial.KDTree(X_lat_lon)\n",
    "dist, index_select = tree.query(query_point, k=k)"
   ]
  },
  {
   "cell_type": "code",
   "execution_count": 171,
   "metadata": {
    "collapsed": false
   },
   "outputs": [],
   "source": [
    "data = pd.DataFrame()\n",
    "for i in index_select:\n",
    "    select_row = data_all.iloc[[i]]\n",
    "    data = data.append(select_row)"
   ]
  },
  {
   "cell_type": "code",
   "execution_count": 172,
   "metadata": {
    "collapsed": false
   },
   "outputs": [],
   "source": [
    "X_lat_lon_select = list(data['lat_lon'])\n",
    "Z = linkage(X_lat_lon_select, 'ward')"
   ]
  },
  {
   "cell_type": "code",
   "execution_count": 173,
   "metadata": {
    "collapsed": false
   },
   "outputs": [],
   "source": [
    "data = data.reset_index()"
   ]
  },
  {
   "cell_type": "code",
   "execution_count": 174,
   "metadata": {
    "collapsed": false
   },
   "outputs": [],
   "source": [
    "clusters = hierarchical_cluster(X_lat_lon_select, Z)\n",
    "index_0 = data[data['y_lat'] == query_point[0]].index.tolist()[0]"
   ]
  },
  {
   "cell_type": "code",
   "execution_count": 175,
   "metadata": {
    "collapsed": false
   },
   "outputs": [],
   "source": [
    "num_buildings = 1\n",
    "SUM_pop = data.loc[int(index_0)]['SUM_pop']\n",
    "building_sqft = data.loc[int(index_0)]['Area_m2']\n",
    "MIN_ELEV = data.loc[int(index_0)]['ELEV_treat']\n",
    "inbuilding_floors = data.loc[int(index_0)]['num_floor']\n",
    "total_dist = building_sqft*in_builing_piping_sf\n",
    "inbuilding_pumping = pump_energy_building(inbuilding_floors)\n",
    "inbuilding_flow = SUM_pop*0.2\n",
    "inbuilding_treatment_energy = find_treatment_energy(SUM_pop, 0)\n",
    "infrastructure = find_infrastructure_energy(SUM_pop, 0, total_dist)\n",
    "total_energy = inbuilding_pumping+inbuilding_treatment_energy+infrastructure"
   ]
  },
  {
   "cell_type": "code",
   "execution_count": 176,
   "metadata": {
    "collapsed": false
   },
   "outputs": [],
   "source": [
    "cluster_points = []\n",
    "log_energy = []\n",
    "cluster_points.append(index_0)\n",
    "points_checked = []\n",
    "treatment_log = []\n",
    "conveyance_log = []\n",
    "population_log = []\n",
    "X_lat_lon_to_check = []\n",
    "totals = {'num_buildings':num_buildings, 'SUM_pop':SUM_pop ,'ELEV_treat':MIN_ELEV, 'total_dist':total_dist, 'inbuilding_pumping':inbuilding_pumping, 'total_energy':total_energy }\n",
    "G = nx.Graph()\n",
    "points_checked.append(index_0)\n",
    "G.add_node(index_0)\n",
    "for key in clusters.keys():\n",
    "    if index_0 in clusters[key]:\n",
    "        add = False\n",
    "        ids_check = list(set(clusters[key])^set(points_checked))\n",
    "        for item in ids_check:\n",
    "            X_lat_lon_to_check.append((X_lat_lon_select[int(item)]))\n",
    "            \n",
    "        for start in ids_check:\n",
    "            points_checked.append(int(start))\n",
    "            populate_Graph(G, start, data)\n",
    "            MST_distance = find_MST_distance(G)\n",
    "            building_floors = data.iloc[int(start)]['num_floor']\n",
    "            building_sqft = data.iloc[int(start)]['Area_m2']\n",
    "            building_elevation = data.iloc[int(start)]['ELEV_treat']\n",
    "            building_population = data.iloc[int(start)]['SUM_pop']\n",
    "            piping_distance = MST_distance + building_sqft*in_builing_piping_sf\n",
    "            \n",
    "            conveyance_energy = find_conveyance_energy(building_elevation, totals['ELEV_treat'], building_floors)\n",
    "            treatment_energy = find_treatment_energy(building_population, totals['SUM_pop'])\n",
    "            treatment_embodied = find_treatment_embodied_energy(building_population, totals['SUM_pop'],  ttype = False)\n",
    "            infrastructure = find_infrastructure_energy(building_population, totals['SUM_pop'], piping_distance)\n",
    "            total_energy = conveyance_energy + treatment_energy + infrastructure + treatment_embodied\n",
    "            log_energy.append((start, total_energy))\n",
    "            \n",
    "            if total_energy < totals['total_energy']:\n",
    "                add = True\n",
    "                cluster_points.append(start)\n",
    "                totals['num_buildings'] += 1\n",
    "                totals['SUM_pop'] = totals['SUM_pop'] + data.iloc[int(start)]['SUM_pop']\n",
    "                totals['ELEV_treat'] = min(totals['ELEV_treat'], data.iloc[int(start)]['ELEV_treat'])\n",
    "                totals['total_dist'] = totals['total_dist'] + piping_distance\n",
    "                totals['total_energy'] = total_energy\n",
    "            \n",
    "            else:\n",
    "                G.remove_node(int(start))\n",
    "                \n",
    "        if add == False and key !=1:\n",
    "            break\n"
   ]
  },
  {
   "cell_type": "code",
   "execution_count": 177,
   "metadata": {
    "collapsed": false
   },
   "outputs": [
    {
     "data": {
      "text/plain": [
       "46"
      ]
     },
     "execution_count": 177,
     "metadata": {},
     "output_type": "execute_result"
    }
   ],
   "source": [
    "len(cluster_points)"
   ]
  },
  {
   "cell_type": "code",
   "execution_count": 178,
   "metadata": {
    "collapsed": false
   },
   "outputs": [
    {
     "name": "stdout",
     "output_type": "stream",
     "text": [
      "0.2354509584\n",
      "7.58174778311\n",
      "0\n",
      "0.901309021081\n"
     ]
    }
   ],
   "source": [
    "print (conveyance_energy)\n",
    "print (treatment_energy)\n",
    "print (treatment_embodied)\n",
    "print (infrastructure)"
   ]
  },
  {
   "cell_type": "code",
   "execution_count": 179,
   "metadata": {
    "collapsed": false
   },
   "outputs": [
    {
     "data": {
      "text/plain": [
       "{'ELEV_treat': 54.540999999999997,\n",
       " 'SUM_pop': 754.9243869999998,\n",
       " 'inbuilding_pumping': 0.23520000000000002,\n",
       " 'num_buildings': 46,\n",
       " 'total_dist': 19678.628109248639,\n",
       " 'total_energy': 8.3356885110997059}"
      ]
     },
     "execution_count": 179,
     "metadata": {},
     "output_type": "execute_result"
    }
   ],
   "source": [
    "totals"
   ]
  },
  {
   "cell_type": "code",
   "execution_count": 180,
   "metadata": {
    "collapsed": true
   },
   "outputs": [],
   "source": [
    "log1 = []\n",
    "for item in log_energy:\n",
    "     log1.append(item[0])"
   ]
  },
  {
   "cell_type": "code",
   "execution_count": 181,
   "metadata": {
    "collapsed": false
   },
   "outputs": [],
   "source": [
    "ids_not = list(set(log1)^set(cluster_points))"
   ]
  },
  {
   "cell_type": "code",
   "execution_count": 182,
   "metadata": {
    "collapsed": false
   },
   "outputs": [],
   "source": [
    "output = pd.DataFrame()\n",
    "for i in cluster_points:\n",
    "    select_row = data.iloc[[i]]\n",
    "    output = output.append(select_row)"
   ]
  },
  {
   "cell_type": "code",
   "execution_count": 183,
   "metadata": {
    "collapsed": false
   },
   "outputs": [],
   "source": [
    "output.to_csv('med_out.csv')"
   ]
  },
  {
   "cell_type": "code",
   "execution_count": 184,
   "metadata": {
    "collapsed": false
   },
   "outputs": [],
   "source": [
    "lat_lon_array = list(output['lat_lon'])\n",
    "hull = ConvexHull(lat_lon_array)\n",
    "polygon_coords=[]\n",
    "for simplex in hull.vertices:\n",
    "    x= lat_lon_array[simplex][1]\n",
    "    y = lat_lon_array[simplex][0]\n",
    "    coords = (x,y)\n",
    "    polygon_coords.append(coords)\n",
    "polygon_coords_array = [polygon_coords]\n",
    "polygon = Polygon(polygon_coords_array)"
   ]
  },
  {
   "cell_type": "code",
   "execution_count": 185,
   "metadata": {
    "collapsed": false
   },
   "outputs": [],
   "source": [
    "with open('rest_medium.json', 'w') as outfile: \n",
    "        json.dump(polygon, outfile)"
   ]
  },
  {
   "cell_type": "code",
   "execution_count": null,
   "metadata": {
    "collapsed": true
   },
   "outputs": [],
   "source": []
  }
 ],
 "metadata": {
  "anaconda-cloud": {},
  "kernelspec": {
   "display_name": "Python [default]",
   "language": "python",
   "name": "python3"
  },
  "language_info": {
   "codemirror_mode": {
    "name": "ipython",
    "version": 3
   },
   "file_extension": ".py",
   "mimetype": "text/x-python",
   "name": "python",
   "nbconvert_exporter": "python",
   "pygments_lexer": "ipython3",
   "version": "3.5.2"
  }
 },
 "nbformat": 4,
 "nbformat_minor": 1
}

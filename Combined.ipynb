{
 "cells": [
  {
   "cell_type": "code",
   "execution_count": 2,
   "metadata": {
    "collapsed": false
   },
   "outputs": [],
   "source": [
    "import pandas as pd\n",
    "from scipy.cluster.hierarchy import dendrogram, linkage\n",
    "from geopy.distance import vincenty\n",
    "from scipy import spatial\n",
    "import networkx as nx\n",
    "import matplotlib.pyplot as plt\n",
    "from functions import *\n",
    "import Parameters as P"
   ]
  },
  {
   "cell_type": "code",
   "execution_count": 3,
   "metadata": {
    "collapsed": true
   },
   "outputs": [],
   "source": [
    "data_all = pd.read_csv('../GIS_data/building_all_null.csv')"
   ]
  },
  {
   "cell_type": "code",
   "execution_count": 3,
   "metadata": {
    "collapsed": true
   },
   "outputs": [],
   "source": [
    "in_builing_piping_sf = 0.01"
   ]
  },
  {
   "cell_type": "code",
   "execution_count": 4,
   "metadata": {
    "collapsed": true
   },
   "outputs": [],
   "source": [
    "data_all['lat_lon'] = data_all.apply(lambda row: (row['y_lat'], row['x_lon']), axis=1)"
   ]
  },
  {
   "cell_type": "code",
   "execution_count": 5,
   "metadata": {
    "collapsed": true
   },
   "outputs": [],
   "source": [
    "if len(data_all)>1000:\n",
    "    k = 1000\n",
    "else:\n",
    "    k = len(data_all)"
   ]
  },
  {
   "cell_type": "code",
   "execution_count": 6,
   "metadata": {
    "collapsed": true
   },
   "outputs": [],
   "source": [
    "X_lat_lon = list(data_all['lat_lon'])\n",
    "query_point = (37.763005, -122.493608)\n",
    "tree = spatial.KDTree(X_lat_lon)\n",
    "dist, index_select = tree.query(query_point, k=k)"
   ]
  },
  {
   "cell_type": "code",
   "execution_count": 7,
   "metadata": {
    "collapsed": false
   },
   "outputs": [],
   "source": [
    "X_lat_lon_select = [X_lat_lon[i] for i in index_select]\n",
    "Z = linkage(X_lat_lon_select, 'ward')"
   ]
  },
  {
   "cell_type": "code",
   "execution_count": 8,
   "metadata": {
    "collapsed": false
   },
   "outputs": [],
   "source": [
    "data = pd.DataFrame()\n",
    "for i in index_select:\n",
    "    select_row = data_all.loc[i]\n",
    "    data = data.append(select_row)"
   ]
  },
  {
   "cell_type": "code",
   "execution_count": 9,
   "metadata": {
    "collapsed": false
   },
   "outputs": [],
   "source": [
    "data = data.reset_index()"
   ]
  },
  {
   "cell_type": "code",
   "execution_count": 10,
   "metadata": {
    "collapsed": false
   },
   "outputs": [],
   "source": [
    "clusters = hierarchical_cluster(X_lat_lon_select, Z)\n",
    "index_0 = data[data['y_lat'] == query_point[0]].index.tolist()[0]"
   ]
  },
  {
   "cell_type": "code",
   "execution_count": 11,
   "metadata": {
    "collapsed": false
   },
   "outputs": [],
   "source": [
    "num_buildings = 1\n",
    "SUM_pop = data.loc[int(index_0)]['SUM_pop']\n",
    "building_sqft = data.loc[int(index_0)]['Area_m2']\n",
    "MIN_ELEV = data.loc[int(index_0)]['ELEV_treat']\n",
    "inbuilding_floors = data.loc[int(index_0)]['num_floor']\n",
    "total_dist = building_sqft*in_builing_piping_sf\n",
    "inbuilding_pumping = pump_energy_building(inbuilding_floors)\n",
    "inbuilding_flow = SUM_pop*0.2\n",
    "#inbuilding_treatment_energy = 9.5*(inbuilding_flow)**(-0.3)*3.6*0.8\n",
    "inbuilding_treatment_energy = 8*(inbuilding_flow)**(-0.1)*3.6*0.8\n",
    "total_energy = inbuilding_pumping+inbuilding_treatment_energy"
   ]
  },
  {
   "cell_type": "code",
   "execution_count": 12,
   "metadata": {
    "collapsed": false
   },
   "outputs": [],
   "source": [
    "cluster_points = []\n",
    "cluster_points.append(index_0)\n",
    "points_checked = []\n",
    "X_lat_lon_to_check = []\n",
    "totals = {'num_buildings':num_buildings, 'SUM_pop':SUM_pop ,'ELEV_treat':MIN_ELEV, 'total_dist':total_dist, 'inbuilding_pumping':inbuilding_pumping, 'total_energy':total_energy }\n",
    "G = nx.Graph()\n",
    "points_checked.append(index_0)\n",
    "for key in clusters.keys():\n",
    "    if index_0 in clusters[key]:\n",
    "        add = False\n",
    "        ids_check = list(set(clusters[key])^set(points_checked))\n",
    "        for item in ids_check:\n",
    "            X_lat_lon_to_check.append((X_lat_lon_select[int(item-1)]))\n",
    "            \n",
    "        for start in ids_check:\n",
    "            points_checked.append(int(start))\n",
    "            G.add_node(int(start))\n",
    "            for destination in G.nodes():\n",
    "                dist = vincenty(data.iloc[int(start)]['lat_lon'], data.iloc[int(destination)]['lat_lon']).meters\n",
    "                G.add_path([item, destination], weight=dist)\n",
    "            MST_distance = find_MST_distance(G)\n",
    "            building_floors = data.iloc[int(start)]['num_floor']\n",
    "            building_sqft = data.iloc[int(start)]['Area_m2']\n",
    "            piping_distance = MST_distance + building_sqft*in_builing_piping_sf\n",
    "            conveyance_energy = find_conveyance_energy(data, start, totals, piping_distance, building_floors)\n",
    "            treatment_energy = find_treatment_energy(data, start, totals)\n",
    "            treatment_embodied = find_treatment_embodied_energy(data, start, totals, type = False)\n",
    "            infrastructure = find_infrastructure_energy(data, start, totals, piping_distance)\n",
    "            total_energy = conveyance_energy + treatment_energy + infrastructure\n",
    "            \n",
    "            if total_energy<totals['total_energy']:\n",
    "                add = True\n",
    "                cluster_points.append(start)\n",
    "                totals['num_buildings'] += 1\n",
    "                totals['SUM_pop'] = totals['SUM_pop']+data.iloc[int(start)]['SUM_pop']\n",
    "                totals['ELEV_treat'] = min(totals['ELEV_treat'], data.iloc[int(start)]['ELEV_treat'])\n",
    "                totals['total_dist'] = totals['total_dist'] + piping_distance\n",
    "                totals['total_energy'] = total_energy\n",
    "            \n",
    "            else:\n",
    "                G.remove_node(int(start))\n",
    "        if add == False:\n",
    "            break"
   ]
  },
  {
   "cell_type": "code",
   "execution_count": 13,
   "metadata": {
    "collapsed": false
   },
   "outputs": [
    {
     "data": {
      "text/plain": [
       "60"
      ]
     },
     "execution_count": 13,
     "metadata": {},
     "output_type": "execute_result"
    }
   ],
   "source": [
    "len(cluster_points)"
   ]
  },
  {
   "cell_type": "code",
   "execution_count": 14,
   "metadata": {
    "collapsed": false
   },
   "outputs": [],
   "source": [
    "output = pd.DataFrame()\n",
    "for i in cluster_points:\n",
    "    select_row = data.loc[i]\n",
    "    output = output.append(select_row)"
   ]
  },
  {
   "cell_type": "code",
   "execution_count": 15,
   "metadata": {
    "collapsed": false
   },
   "outputs": [],
   "source": [
    "output.to_csv('test_out_5.csv')"
   ]
  },
  {
   "cell_type": "code",
   "execution_count": 300,
   "metadata": {
    "collapsed": false
   },
   "outputs": [
    {
     "data": {
      "text/plain": [
       "{'ELEV_treat': 157.28071499999999,\n",
       " 'SUM_pop': 12.309001000000002,\n",
       " 'inbuilding_pumping': 0.0060000000000000001,\n",
       " 'num_buildings': 5,\n",
       " 'total_dist': 110.89585263185189,\n",
       " 'total_energy': 26.299641287943359}"
      ]
     },
     "execution_count": 300,
     "metadata": {},
     "output_type": "execute_result"
    }
   ],
   "source": [
    "totals"
   ]
  },
  {
   "cell_type": "code",
   "execution_count": null,
   "metadata": {
    "collapsed": true
   },
   "outputs": [],
   "source": []
  }
 ],
 "metadata": {
  "anaconda-cloud": {},
  "kernelspec": {
   "display_name": "Python [default]",
   "language": "python",
   "name": "python3"
  },
  "language_info": {
   "codemirror_mode": {
    "name": "ipython",
    "version": 3
   },
   "file_extension": ".py",
   "mimetype": "text/x-python",
   "name": "python",
   "nbconvert_exporter": "python",
   "pygments_lexer": "ipython3",
   "version": "3.5.2"
  }
 },
 "nbformat": 4,
 "nbformat_minor": 1
}

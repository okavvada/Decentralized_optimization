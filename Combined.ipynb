{
 "cells": [
  {
   "cell_type": "code",
   "execution_count": 49,
   "metadata": {
    "collapsed": false
   },
   "outputs": [],
   "source": [
    "import pandas as pd\n",
    "from scipy.cluster.hierarchy import dendrogram, linkage\n",
    "from geopy.distance import vincenty\n",
    "from scipy import spatial\n",
    "import networkx as nx\n",
    "import matplotlib.pyplot as plt\n",
    "from functions import *\n",
    "import geopandas as gpd\n",
    "from shapely.geometry import Point\n",
    "import Parameters as P"
   ]
  },
  {
   "cell_type": "code",
   "execution_count": 72,
   "metadata": {
    "collapsed": true
   },
   "outputs": [],
   "source": [
    "data_all = pd.read_csv('../GIS_data/building_all_null.csv')"
   ]
  },
  {
   "cell_type": "code",
   "execution_count": 226,
   "metadata": {
    "collapsed": true
   },
   "outputs": [],
   "source": [
    "in_builing_piping_sf = 0.01"
   ]
  },
  {
   "cell_type": "code",
   "execution_count": 227,
   "metadata": {
    "collapsed": false
   },
   "outputs": [],
   "source": [
    "data_all['lat_lon'] = data_all.apply(lambda row: (row['y_lat'], row['x_lon']), axis=1)"
   ]
  },
  {
   "cell_type": "code",
   "execution_count": 228,
   "metadata": {
    "collapsed": true
   },
   "outputs": [],
   "source": [
    "if len(data_all)>1000:\n",
    "    k = 1000\n",
    "else:\n",
    "    k = len(data_all)"
   ]
  },
  {
   "cell_type": "code",
   "execution_count": 229,
   "metadata": {
    "collapsed": false
   },
   "outputs": [],
   "source": [
    "X_lat_lon = list(data_all['lat_lon'])\n",
    "low = (37.780844, -122.407107)\n",
    "medium = (37.774191, -122.434905)\n",
    "high = (37.750458, -122.453315)\n",
    "\n",
    "query_point = medium\n",
    "tree = spatial.KDTree(X_lat_lon)\n",
    "dist, index_select = tree.query(query_point, k=k)\n"
   ]
  },
  {
   "cell_type": "code",
   "execution_count": 230,
   "metadata": {
    "collapsed": false
   },
   "outputs": [],
   "source": [
    "data = pd.DataFrame()\n",
    "for i in index_select:\n",
    "    select_row = data_all.iloc[[i]]\n",
    "    data = data.append(select_row)"
   ]
  },
  {
   "cell_type": "code",
   "execution_count": 231,
   "metadata": {
    "collapsed": false
   },
   "outputs": [],
   "source": [
    "X_lat_lon_select = list(data['lat_lon'])\n",
    "Z = linkage(X_lat_lon_select, 'ward')"
   ]
  },
  {
   "cell_type": "code",
   "execution_count": 232,
   "metadata": {
    "collapsed": false
   },
   "outputs": [],
   "source": [
    "data = data.reset_index()"
   ]
  },
  {
   "cell_type": "code",
   "execution_count": 233,
   "metadata": {
    "collapsed": false
   },
   "outputs": [],
   "source": [
    "clusters = hierarchical_cluster(X_lat_lon_select, Z)\n",
    "index_0 = data[(data['y_lat'] - query_point[0])<0.0001].index.tolist()[0]"
   ]
  },
  {
   "cell_type": "code",
   "execution_count": 234,
   "metadata": {
    "collapsed": false
   },
   "outputs": [],
   "source": [
    "num_buildings = 1\n",
    "SUM_pop = data.loc[int(index_0)]['SUM_pop']\n",
    "building_sqft = data.loc[int(index_0)]['Area_m2']\n",
    "MIN_ELEV = data.loc[int(index_0)]['ELEV_treat']\n",
    "inbuilding_floors = data.loc[int(index_0)]['num_floor']\n",
    "total_dist = building_sqft*in_builing_piping_sf\n",
    "inbuilding_pumping = pump_energy_building(inbuilding_floors)\n",
    "inbuilding_flow = SUM_pop*0.2\n",
    "inbuilding_treatment_energy = find_treatment_energy(SUM_pop, 0)\n",
    "infrastructure = find_infrastructure_energy(SUM_pop, 0, total_dist)\n",
    "total_energy = inbuilding_pumping+inbuilding_treatment_energy+infrastructure"
   ]
  },
  {
   "cell_type": "code",
   "execution_count": 235,
   "metadata": {
    "collapsed": false
   },
   "outputs": [],
   "source": [
    "cluster_points = []\n",
    "log_energy = []\n",
    "cluster_points.append(index_0)\n",
    "points_checked = []\n",
    "treatment_log = []\n",
    "conveyance_log = []\n",
    "population_log = []\n",
    "X_lat_lon_to_check = []\n",
    "totals = {'num_buildings':num_buildings, 'SUM_pop':SUM_pop ,'ELEV_treat':MIN_ELEV, 'total_dist':total_dist, 'inbuilding_pumping':inbuilding_pumping, 'total_energy':total_energy }\n",
    "G = nx.Graph()\n",
    "points_checked.append(index_0)\n",
    "G.add_node(index_0)\n",
    "for key in clusters.keys():\n",
    "    if index_0 in clusters[key]:\n",
    "        add = False\n",
    "        ids_check = list(set(clusters[key])^set(points_checked))\n",
    "        for item in ids_check:\n",
    "            X_lat_lon_to_check.append((X_lat_lon_select[int(item)]))\n",
    "            \n",
    "        for start in ids_check:\n",
    "            points_checked.append(int(start))\n",
    "            populate_Graph(G, start, data)\n",
    "            MST_distance = find_MST_distance(G)\n",
    "            building_floors = data.iloc[int(start)]['num_floor']\n",
    "            building_sqft = data.iloc[int(start)]['Area_m2']\n",
    "            building_elevation = data.iloc[int(start)]['ELEV_treat']\n",
    "            building_population = data.iloc[int(start)]['SUM_pop']\n",
    "            piping_distance = MST_distance + building_sqft*in_builing_piping_sf\n",
    "            \n",
    "            conveyance_energy = find_conveyance_energy(building_elevation, totals['ELEV_treat'], building_floors)\n",
    "            treatment_energy = find_treatment_energy(building_population, totals['SUM_pop'])\n",
    "            treatment_embodied = find_treatment_embodied_energy(building_population, totals['SUM_pop'],  ttype = False)\n",
    "            infrastructure = find_infrastructure_energy(building_population, totals['SUM_pop'], piping_distance)\n",
    "            total_energy = conveyance_energy + treatment_energy + infrastructure + treatment_embodied\n",
    "            log_energy.append((start, total_energy))\n",
    "            \n",
    "            if total_energy < totals['total_energy']:\n",
    "                add = True\n",
    "                cluster_points.append(start)\n",
    "                totals['num_buildings'] += 1\n",
    "                totals['SUM_pop'] = totals['SUM_pop'] + data.iloc[int(start)]['SUM_pop']\n",
    "                totals['ELEV_treat'] = min(totals['ELEV_treat'], data.iloc[int(start)]['ELEV_treat'])\n",
    "                totals['total_dist'] = totals['total_dist'] + piping_distance\n",
    "                totals['total_energy'] = total_energy\n",
    "            \n",
    "            else:\n",
    "                G.remove_node(int(start))\n",
    "                \n",
    "        if add == False and key !=1:\n",
    "            break\n"
   ]
  },
  {
   "cell_type": "code",
   "execution_count": 238,
   "metadata": {
    "collapsed": false
   },
   "outputs": [
    {
     "data": {
      "text/plain": [
       "64"
      ]
     },
     "execution_count": 238,
     "metadata": {},
     "output_type": "execute_result"
    }
   ],
   "source": [
    "len(cluster_points)"
   ]
  },
  {
   "cell_type": "code",
   "execution_count": 239,
   "metadata": {
    "collapsed": false
   },
   "outputs": [
    {
     "data": {
      "text/plain": [
       "87"
      ]
     },
     "execution_count": 239,
     "metadata": {},
     "output_type": "execute_result"
    }
   ],
   "source": [
    "len(points_checked)"
   ]
  },
  {
   "cell_type": "code",
   "execution_count": 93,
   "metadata": {
    "collapsed": false
   },
   "outputs": [
    {
     "name": "stdout",
     "output_type": "stream",
     "text": [
      "0.6174\n",
      "25.6763981637\n",
      "0\n",
      "0.497223453637\n"
     ]
    }
   ],
   "source": [
    "print (conveyance_energy)\n",
    "print (treatment_energy)\n",
    "print (treatment_embodied)\n",
    "print (infrastructure)"
   ]
  },
  {
   "cell_type": "code",
   "execution_count": 179,
   "metadata": {
    "collapsed": false
   },
   "outputs": [
    {
     "data": {
      "text/plain": [
       "{'ELEV_treat': 54.540999999999997,\n",
       " 'SUM_pop': 754.9243869999998,\n",
       " 'inbuilding_pumping': 0.23520000000000002,\n",
       " 'num_buildings': 46,\n",
       " 'total_dist': 19678.628109248639,\n",
       " 'total_energy': 8.3356885110997059}"
      ]
     },
     "execution_count": 179,
     "metadata": {},
     "output_type": "execute_result"
    }
   ],
   "source": [
    "totals"
   ]
  },
  {
   "cell_type": "code",
   "execution_count": 240,
   "metadata": {
    "collapsed": true
   },
   "outputs": [],
   "source": [
    "log1 = []\n",
    "for item in log_energy:\n",
    "     log1.append(item[1])"
   ]
  },
  {
   "cell_type": "code",
   "execution_count": 241,
   "metadata": {
    "collapsed": false
   },
   "outputs": [
    {
     "data": {
      "image/png": "[encoded data removed]",
      "text/plain": [
       "<matplotlib.figure.Figure at 0x3494289a90>"
      ]
     },
     "metadata": {},
     "output_type": "display_data"
    }
   ],
   "source": [
    "plt.plot(log1)\n",
    "plt.show()"
   ]
  },
  {
   "cell_type": "code",
   "execution_count": 181,
   "metadata": {
    "collapsed": false
   },
   "outputs": [],
   "source": [
    "ids_not = list(set(log1)^set(cluster_points))"
   ]
  },
  {
   "cell_type": "code",
   "execution_count": 242,
   "metadata": {
    "collapsed": false
   },
   "outputs": [],
   "source": [
    "output = pd.DataFrame()\n",
    "for i in cluster_points:\n",
    "    select_row = data.iloc[[i]]\n",
    "    output = output.append(select_row)"
   ]
  },
  {
   "cell_type": "code",
   "execution_count": 243,
   "metadata": {
    "collapsed": false
   },
   "outputs": [],
   "source": [
    "output.to_csv('med_out_test.csv')"
   ]
  },
  {
   "cell_type": "code",
   "execution_count": 184,
   "metadata": {
    "collapsed": false
   },
   "outputs": [],
   "source": [
    "lat_lon_array = list(output['lat_lon'])\n",
    "hull = ConvexHull(lat_lon_array)\n",
    "polygon_coords=[]\n",
    "for simplex in hull.vertices:\n",
    "    x= lat_lon_array[simplex][1]\n",
    "    y = lat_lon_array[simplex][0]\n",
    "    coords = (x,y)\n",
    "    polygon_coords.append(coords)\n",
    "polygon_coords_array = [polygon_coords]\n",
    "polygon = Polygon(polygon_coords_array)"
   ]
  },
  {
   "cell_type": "code",
   "execution_count": 185,
   "metadata": {
    "collapsed": false
   },
   "outputs": [],
   "source": [
    "with open('../GIS_data/polygon_%s.geojson' %query_point, 'w') as outfile: \n",
    "        json.dump(polygon, outfile)"
   ]
  },
  {
   "cell_type": "code",
   "execution_count": null,
   "metadata": {
    "collapsed": true
   },
   "outputs": [],
   "source": []
  },
  {
   "cell_type": "code",
   "execution_count": null,
   "metadata": {
    "collapsed": true
   },
   "outputs": [],
   "source": []
  },
  {
   "cell_type": "code",
   "execution_count": 160,
   "metadata": {
    "collapsed": true
   },
   "outputs": [],
   "source": [
    "data = [[17,65.46537000000,8,220.36308300000,(37.77424300000,-122.43476500000)], [17,67.48,8,216,(37.77427400000,-122.43461500000)], \n",
    "        [5.8,65,3,197,(37.77419100000,-122.43490500000)]]\n",
    "column = ['SUM_pop', 'ELEV_treat', 'num_floor','Area_m2', 'lat_lon']\n",
    "data_all= pd.DataFrame(data=data, columns=column)"
   ]
  },
  {
   "cell_type": "code",
   "execution_count": 161,
   "metadata": {
    "collapsed": false
   },
   "outputs": [
    {
     "data": {
      "text/html": [
       "<div>\n",
       "<table border=\"1\" class=\"dataframe\">\n",
       "  <thead>\n",
       "    <tr style=\"text-align: right;\">\n",
       "      <th></th>\n",
       "      <th>SUM_pop</th>\n",
       "      <th>ELEV_treat</th>\n",
       "      <th>num_floor</th>\n",
       "      <th>Area_m2</th>\n",
       "      <th>lat_lon</th>\n",
       "    </tr>\n",
       "  </thead>\n",
       "  <tbody>\n",
       "    <tr>\n",
       "      <th>0</th>\n",
       "      <td>17.0</td>\n",
       "      <td>65.46537</td>\n",
       "      <td>8</td>\n",
       "      <td>220.363083</td>\n",
       "      <td>(37.774243, -122.434765)</td>\n",
       "    </tr>\n",
       "    <tr>\n",
       "      <th>1</th>\n",
       "      <td>17.0</td>\n",
       "      <td>67.48000</td>\n",
       "      <td>8</td>\n",
       "      <td>216.000000</td>\n",
       "      <td>(37.774274, -122.434615)</td>\n",
       "    </tr>\n",
       "    <tr>\n",
       "      <th>2</th>\n",
       "      <td>5.8</td>\n",
       "      <td>65.00000</td>\n",
       "      <td>3</td>\n",
       "      <td>197.000000</td>\n",
       "      <td>(37.774191, -122.434905)</td>\n",
       "    </tr>\n",
       "  </tbody>\n",
       "</table>\n",
       "</div>"
      ],
      "text/plain": [
       "   SUM_pop  ELEV_treat  num_floor     Area_m2                   lat_lon\n",
       "0     17.0    65.46537          8  220.363083  (37.774243, -122.434765)\n",
       "1     17.0    67.48000          8  216.000000  (37.774274, -122.434615)\n",
       "2      5.8    65.00000          3  197.000000  (37.774191, -122.434905)"
      ]
     },
     "execution_count": 161,
     "metadata": {},
     "output_type": "execute_result"
    }
   ],
   "source": [
    "data_all"
   ]
  },
  {
   "cell_type": "code",
   "execution_count": 175,
   "metadata": {
    "collapsed": true
   },
   "outputs": [],
   "source": [
    "query_point = 0"
   ]
  },
  {
   "cell_type": "code",
   "execution_count": 176,
   "metadata": {
    "collapsed": false
   },
   "outputs": [],
   "source": [
    "Z = linkage(list(data_all['lat_lon']), 'ward')"
   ]
  },
  {
   "cell_type": "code",
   "execution_count": 177,
   "metadata": {
    "collapsed": true
   },
   "outputs": [],
   "source": [
    "clusters = hierarchical_cluster(list(data_all['lat_lon']), Z)"
   ]
  },
  {
   "cell_type": "code",
   "execution_count": 178,
   "metadata": {
    "collapsed": false
   },
   "outputs": [
    {
     "data": {
      "text/plain": [
       "{1: [0, 2], 2: [0, 2, 1]}"
      ]
     },
     "execution_count": 178,
     "metadata": {},
     "output_type": "execute_result"
    }
   ],
   "source": [
    "clusters"
   ]
  },
  {
   "cell_type": "code",
   "execution_count": 101,
   "metadata": {
    "collapsed": false
   },
   "outputs": [
    {
     "data": {
      "text/plain": [
       "27.77903195538326"
      ]
     },
     "execution_count": 101,
     "metadata": {},
     "output_type": "execute_result"
    }
   ],
   "source": [
    "find_treatment_energy(data_all['SUM_pop'][0],0)"
   ]
  },
  {
   "cell_type": "code",
   "execution_count": 22,
   "metadata": {
    "collapsed": false
   },
   "outputs": [
    {
     "data": {
      "text/plain": [
       "0.058800000000000005"
      ]
     },
     "execution_count": 22,
     "metadata": {},
     "output_type": "execute_result"
    }
   ],
   "source": [
    "pump_energy_building(data_all['Floors'][0])"
   ]
  },
  {
   "cell_type": "code",
   "execution_count": 27,
   "metadata": {
    "collapsed": false
   },
   "outputs": [],
   "source": [
    "tot_energy = find_treatment_energy(data_all['SUM_POP'][0]+data_all['SUM_POP'][1],0)+find_conveyance_energy(data_all['ELEV'][1],data_all['ELEV'][0],data_all['Floors'][1])+pump_energy_building(data_all['Floors'][1])"
   ]
  },
  {
   "cell_type": "code",
   "execution_count": null,
   "metadata": {
    "collapsed": true
   },
   "outputs": [],
   "source": [
    "tot_energy = find_treatment_energy(data_all['SUM_POP'][0]+data_all['SUM_POP'][1],0)+find_conveyance_energy(data_all['ELEV'][1],data_all['ELEV'][0],data_all['Floors'][1])+pump_energy_building(data_all['Floors'][1])"
   ]
  }
 ],
 "metadata": {
  "anaconda-cloud": {},
  "kernelspec": {
   "display_name": "Python [default]",
   "language": "python",
   "name": "python3"
  },
  "language_info": {
   "codemirror_mode": {
    "name": "ipython",
    "version": 3
   },
   "file_extension": ".py",
   "mimetype": "text/x-python",
   "name": "python",
   "nbconvert_exporter": "python",
   "pygments_lexer": "ipython3",
   "version": "3.5.2"
  }
 },
 "nbformat": 4,
 "nbformat_minor": 1
}

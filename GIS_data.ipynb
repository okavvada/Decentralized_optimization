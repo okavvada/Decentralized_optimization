{
 "cells": [
  {
   "cell_type": "code",
   "execution_count": 2,
   "metadata": {
    "collapsed": true
   },
   "outputs": [],
   "source": [
    "import pandas as pd\n",
    "from geojson import Feature, Point, MultiPoint, Polygon, FeatureCollection\n",
    "import numpy as np\n",
    "from scipy.spatial import ConvexHull\n",
    "from scipy import spatial\n",
    "import geopandas as gpd"
   ]
  },
  {
   "cell_type": "code",
   "execution_count": 178,
   "metadata": {
    "collapsed": false
   },
   "outputs": [],
   "source": [
    "buildings_all = gpd.read_file('all_buildings_SF_footprint_elev_2.shp')\n",
    "business = gpd.read_file('business_SF_WGS.shp')\n",
    "residential_buildings = gpd.read_file('residential_buildings_footprint_2.shp')"
   ]
  },
  {
   "cell_type": "markdown",
   "metadata": {},
   "source": [
    "# Create Tree"
   ]
  },
  {
   "cell_type": "code",
   "execution_count": 179,
   "metadata": {
    "collapsed": false
   },
   "outputs": [],
   "source": [
    "buildings_all['OBJECTID'] = buildings_all.index\n",
    "X_lat_lon = list(zip(buildings_all['y_lat'],buildings_all['x_lon']))\n",
    "tree = spatial.KDTree(X_lat_lon)\n",
    "X_lat_lon_emp = list(zip(business['lat'],business['lng']))"
   ]
  },
  {
   "cell_type": "markdown",
   "metadata": {},
   "source": [
    "# Find closest building"
   ]
  },
  {
   "cell_type": "code",
   "execution_count": 180,
   "metadata": {
    "collapsed": false
   },
   "outputs": [],
   "source": [
    "location = 0\n",
    "for item in X_lat_lon_emp:\n",
    "    dist, index_select = tree.query(item, k=1)\n",
    "    close_to = int(buildings_all.iloc[int(index_select)]['OBJECTID_1'])\n",
    "    business.loc[int(location),'close_id'] = close_to\n",
    "    location+=1\n",
    "    "
   ]
  },
  {
   "cell_type": "markdown",
   "metadata": {},
   "source": [
    "# Dissolve by closest building and add employee count"
   ]
  },
  {
   "cell_type": "code",
   "execution_count": 181,
   "metadata": {
    "collapsed": true
   },
   "outputs": [],
   "source": [
    "new_business = business[['geometry','close_id', 'EMPNUM']]\n",
    "employee_count = new_business.dissolve(by='close_id', aggfunc='sum')"
   ]
  },
  {
   "cell_type": "code",
   "execution_count": 182,
   "metadata": {
    "collapsed": false
   },
   "outputs": [],
   "source": [
    "employee_buildings = buildings_all.join(employee_count, on='OBJECTID_1', how = 'inner', rsuffix='_business')"
   ]
  },
  {
   "cell_type": "code",
   "execution_count": 183,
   "metadata": {
    "collapsed": false
   },
   "outputs": [],
   "source": [
    "employee_buildings = employee_buildings.drop('geometry_business',1)"
   ]
  },
  {
   "cell_type": "code",
   "execution_count": 184,
   "metadata": {
    "collapsed": false
   },
   "outputs": [],
   "source": [
    "employee_buildings['index_vals'] = employee_buildings['OBJECTID']\n",
    "employee_buildings['OBJECTID'] = employee_buildings['OBJECTID_1']"
   ]
  },
  {
   "cell_type": "markdown",
   "metadata": {},
   "source": [
    "# Merge with residential buildings"
   ]
  },
  {
   "cell_type": "code",
   "execution_count": 185,
   "metadata": {
    "collapsed": true
   },
   "outputs": [],
   "source": [
    "frames = [residential_buildings, employee_buildings]\n",
    "result = pd.concat(frames)"
   ]
  },
  {
   "cell_type": "code",
   "execution_count": 186,
   "metadata": {
    "collapsed": false
   },
   "outputs": [],
   "source": [
    "subset_result = result[['OBJECTID', 'geometry' ,'SUM_pop', 'EMPNUM']]"
   ]
  },
  {
   "cell_type": "markdown",
   "metadata": {},
   "source": [
    "# Dissolve based on OBJECTID and sum population and employee count"
   ]
  },
  {
   "cell_type": "code",
   "execution_count": 187,
   "metadata": {
    "collapsed": false
   },
   "outputs": [],
   "source": [
    "combined_buildings_sum = subset_result.dissolve(by='OBJECTID', aggfunc='sum')"
   ]
  },
  {
   "cell_type": "code",
   "execution_count": 188,
   "metadata": {
    "collapsed": false
   },
   "outputs": [],
   "source": [
    "combined_buildings = buildings_all.join(combined_buildings_sum, on='OBJECTID_1', how = 'inner', rsuffix='_combined')"
   ]
  },
  {
   "cell_type": "code",
   "execution_count": 189,
   "metadata": {
    "collapsed": false
   },
   "outputs": [],
   "source": [
    "combined_buildings['residential_pop'] = combined_buildings['SUM_pop']"
   ]
  },
  {
   "cell_type": "code",
   "execution_count": 190,
   "metadata": {
    "collapsed": true
   },
   "outputs": [],
   "source": [
    "combined_buildings['SUM_pop'] = combined_buildings.residential_pop.fillna(0) + combined_buildings.EMPNUM.fillna(0)"
   ]
  },
  {
   "cell_type": "code",
   "execution_count": 191,
   "metadata": {
    "collapsed": true
   },
   "outputs": [],
   "source": [
    "new_combined_buildings = combined_buildings[['num_floor', 'Area_m2', 'x_lon', 'y_lat', 'SUM_pop', 'residential_pop', 'EMPNUM', 'ELEV_treat']]"
   ]
  },
  {
   "cell_type": "code",
   "execution_count": 192,
   "metadata": {
    "collapsed": false
   },
   "outputs": [
    {
     "name": "stderr",
     "output_type": "stream",
     "text": [
      "C:\\Users\\Olga\\Anaconda3\\lib\\site-packages\\ipykernel\\__main__.py:1: SettingWithCopyWarning: \n",
      "A value is trying to be set on a copy of a slice from a DataFrame.\n",
      "Try using .loc[row_indexer,col_indexer] = value instead\n",
      "\n",
      "See the caveats in the documentation: http://pandas.pydata.org/pandas-docs/stable/indexing.html#indexing-view-versus-copy\n",
      "  if __name__ == '__main__':\n"
     ]
    }
   ],
   "source": [
    "new_combined_buildings['lat_lon'] = new_combined_buildings.apply(lambda row: (row['y_lat'], row['x_lon']), axis=1)"
   ]
  },
  {
   "cell_type": "code",
   "execution_count": 193,
   "metadata": {
    "collapsed": false
   },
   "outputs": [],
   "source": [
    "new_combined_buildings.to_csv('combined_buildings_2.csv')"
   ]
  },
  {
   "cell_type": "code",
   "execution_count": null,
   "metadata": {
    "collapsed": true
   },
   "outputs": [],
   "source": []
  }
 ],
 "metadata": {
  "anaconda-cloud": {},
  "kernelspec": {
   "display_name": "Python [default]",
   "language": "python",
   "name": "python3"
  },
  "language_info": {
   "codemirror_mode": {
    "name": "ipython",
    "version": 3
   },
   "file_extension": ".py",
   "mimetype": "text/x-python",
   "name": "python",
   "nbconvert_exporter": "python",
   "pygments_lexer": "ipython3",
   "version": "3.5.2"
  }
 },
 "nbformat": 4,
 "nbformat_minor": 1
}

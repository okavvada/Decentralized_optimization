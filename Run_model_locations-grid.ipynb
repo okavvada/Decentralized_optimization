{
 "cells": [
  {
   "cell_type": "code",
   "execution_count": 1,
   "metadata": {
    "collapsed": true
   },
   "outputs": [],
   "source": [
    "import pandas as pd\n",
    "from optimization2 import getServiceArea\n",
    "import geopandas as gpd\n",
    "from shapely.geometry import Point"
   ]
  },
  {
   "cell_type": "markdown",
   "metadata": {},
   "source": [
    "# Input grid centroids"
   ]
  },
  {
   "cell_type": "code",
   "execution_count": 2,
   "metadata": {
    "collapsed": false
   },
   "outputs": [],
   "source": [
    "points_to_assess = pd.read_csv('input_data/points_to_assess_locations.csv')"
   ]
  },
  {
   "cell_type": "markdown",
   "metadata": {},
   "source": [
    "\n",
    "# Select output path"
   ]
  },
  {
   "cell_type": "markdown",
   "metadata": {},
   "source": [
    "# Run Model for grid locations"
   ]
  },
  {
   "cell_type": "code",
   "execution_count": 3,
   "metadata": {
    "collapsed": false
   },
   "outputs": [],
   "source": [
    "metric = 'cost'\n",
    "direct = 0"
   ]
  },
  {
   "cell_type": "code",
   "execution_count": 4,
   "metadata": {
    "collapsed": true
   },
   "outputs": [],
   "source": [
    "path = 'location_results/results_point_location_{}_800.csv'.format(metric)"
   ]
  },
  {
   "cell_type": "code",
   "execution_count": 5,
   "metadata": {
    "collapsed": false
   },
   "outputs": [],
   "source": [
    "X_lat_lon = list(zip(points_to_assess['y_lat'],points_to_assess['x_lon']))"
   ]
  },
  {
   "cell_type": "code",
   "execution_count": 6,
   "metadata": {
    "collapsed": false
   },
   "outputs": [],
   "source": [
    "for item in X_lat_lon:\n",
    "    points = getServiceArea(item, path, metric, 7, -0.18, 0, 0, direct)"
   ]
  },
  {
   "cell_type": "code",
   "execution_count": 7,
   "metadata": {
    "collapsed": true
   },
   "outputs": [],
   "source": [
    "data = pd.read_csv(path, header=None)\n",
    "data.columns= [['latlon', 'people', 'GHG', 'pumping', 'treatment', 'treatment_embodied', 'piping']]\n",
    "data[['lat', 'lon']] = data['latlon'].str[1:-1].str.split(',', expand=True).astype(float)"
   ]
  },
  {
   "cell_type": "markdown",
   "metadata": {},
   "source": [
    "# Convert data to Geodataframe"
   ]
  },
  {
   "cell_type": "code",
   "execution_count": 8,
   "metadata": {
    "collapsed": true
   },
   "outputs": [],
   "source": [
    "geometry = [Point(xy) for xy in zip(data.lon, data.lat)]\n",
    "crs = {'init': 'epsg:4326'}\n",
    "points_geo_df = gpd.GeoDataFrame(data, crs=crs, geometry=geometry)"
   ]
  },
  {
   "cell_type": "code",
   "execution_count": 9,
   "metadata": {
    "collapsed": false
   },
   "outputs": [],
   "source": [
    "points_geo_df.to_file('location_results/results_large_grid_{}_breakdown_800.shp'.format(metric))"
   ]
  },
  {
   "cell_type": "markdown",
   "metadata": {},
   "source": [
    "# Input grid polygons and results with grid data"
   ]
  },
  {
   "cell_type": "code",
   "execution_count": 10,
   "metadata": {
    "collapsed": false
   },
   "outputs": [],
   "source": [
    "grid_large = gpd.read_file('input_data/grid_large_pop.shp')\n",
    "grid_points = points_geo_df"
   ]
  },
  {
   "cell_type": "code",
   "execution_count": 11,
   "metadata": {
    "collapsed": true
   },
   "outputs": [],
   "source": [
    "#grid_points = gpd.read_file('location_results/results_large_grid_{}_breakdown.shp'.format(metric))"
   ]
  },
  {
   "cell_type": "markdown",
   "metadata": {},
   "source": [
    "# Clean up data to get rid of potential outliers and calculate mean size for each grid cell"
   ]
  },
  {
   "cell_type": "code",
   "execution_count": 12,
   "metadata": {
    "collapsed": false
   },
   "outputs": [
    {
     "name": "stdout",
     "output_type": "stream",
     "text": [
      "Warning: CRS does not match!\n"
     ]
    }
   ],
   "source": [
    "points_grid = gpd.sjoin(grid_points, grid_large, how=\"left\", op='intersects')"
   ]
  },
  {
   "cell_type": "code",
   "execution_count": 13,
   "metadata": {
    "collapsed": false
   },
   "outputs": [
    {
     "name": "stderr",
     "output_type": "stream",
     "text": [
      "C:\\Users\\Olga\\Anaconda3\\lib\\site-packages\\ipykernel\\__main__.py:1: FutureWarning: sort(columns=....) is deprecated, use sort_values(by=.....)\n",
      "  if __name__ == '__main__':\n"
     ]
    }
   ],
   "source": [
    "points_grid_sorted = points_grid.sort('people')"
   ]
  },
  {
   "cell_type": "code",
   "execution_count": 14,
   "metadata": {
    "collapsed": true
   },
   "outputs": [],
   "source": [
    "grid_large_2 = grid_large.copy()"
   ]
  },
  {
   "cell_type": "code",
   "execution_count": 15,
   "metadata": {
    "collapsed": true
   },
   "outputs": [],
   "source": [
    "def clean_mean(group, column_name, mean_column_name):\n",
    "    if group[column_name].max()/group[column_name].min()>10:\n",
    "        new_group = group[(group[column_name]<group[column_name].quantile(0.9)) & (group[column_name]>group[column_name].quantile(0.1))]\n",
    "        return new_group[mean_column_name].mean()\n",
    "        \n",
    "    else:\n",
    "        return group[mean_column_name].mean()     "
   ]
  },
  {
   "cell_type": "code",
   "execution_count": 16,
   "metadata": {
    "collapsed": false
   },
   "outputs": [],
   "source": [
    "points_grid_grouped = points_grid_sorted[['GHG', 'people', 'pumping', 'treatment', 'treatment_embodied', 'piping']].groupby(points_grid_sorted['index_right'])"
   ]
  },
  {
   "cell_type": "code",
   "execution_count": 17,
   "metadata": {
    "collapsed": false
   },
   "outputs": [],
   "source": [
    "mean_people_grid = {}\n",
    "for i in range(max(points_grid_grouped.groups.keys())+1):\n",
    "    group = points_grid_grouped.get_group(i)\n",
    "    mean_people = clean_mean(group, 'people', 'people')\n",
    "    mean_GHG = clean_mean(group, 'people', 'GHG')\n",
    "    mean_pumping = clean_mean(group, 'people', 'pumping')\n",
    "    mean_treatment = clean_mean(group, 'people', 'treatment')\n",
    "    mean_treatment_embodied = clean_mean(group, 'people', 'treatment_embodied')\n",
    "    mean_piping = clean_mean(group, 'people', 'piping')\n",
    "    grid_large_2.set_value(i, 'people_mean', mean_people)\n",
    "    grid_large_2.set_value(i, 'GHG_mean', mean_GHG)\n",
    "    grid_large_2.set_value(i, 'pumping_mean', mean_pumping)\n",
    "    grid_large_2.set_value(i, 'treatment_mean', mean_treatment)\n",
    "    grid_large_2.set_value(i, 'treatment_embodied_mean', mean_treatment_embodied)\n",
    "    grid_large_2.set_value(i, 'piping_mean', mean_piping)"
   ]
  },
  {
   "cell_type": "code",
   "execution_count": 18,
   "metadata": {
    "collapsed": false
   },
   "outputs": [],
   "source": [
    "grid_large_join = grid_large.join(grid_large_2, rsuffix='_right')\n",
    "grid_large_join_2 = grid_large_join.drop(['Id_right', 'geometry_right', 'SUM_pop_right','SUM_pop_co_right','SUM_pop_re_right'], 1)"
   ]
  },
  {
   "cell_type": "markdown",
   "metadata": {},
   "source": [
    "# Save to file"
   ]
  },
  {
   "cell_type": "code",
   "execution_count": 19,
   "metadata": {
    "collapsed": false
   },
   "outputs": [],
   "source": [
    "grid_large_join_2.to_file('location_results/grid_cell_output_{}_new.shp'.format(metric))"
   ]
  },
  {
   "cell_type": "markdown",
   "metadata": {},
   "source": [
    "# Extra: Save test locations"
   ]
  },
  {
   "cell_type": "code",
   "execution_count": null,
   "metadata": {
    "collapsed": false
   },
   "outputs": [],
   "source": [
    "point_1 = grid_large_join_2[107:108]\n",
    "point_2 = grid_large_join_2[138:139]\n",
    "point_3 = grid_large_join_2[160:161]\n",
    "point_4 = grid_large_join_2[25:26]"
   ]
  },
  {
   "cell_type": "code",
   "execution_count": null,
   "metadata": {
    "collapsed": true
   },
   "outputs": [],
   "source": [
    "point_1.to_file('../GIS_data/point_1_cost.shp')\n",
    "point_2.to_file('../GIS_data/point_2_cost.shp')\n",
    "point_3.to_file('../GIS_data/point_3_cost.shp')\n",
    "point_4.to_file('../GIS_data/point_4_cost.shp')"
   ]
  },
  {
   "cell_type": "code",
   "execution_count": null,
   "metadata": {
    "collapsed": true
   },
   "outputs": [],
   "source": []
  }
 ],
 "metadata": {
  "anaconda-cloud": {},
  "kernelspec": {
   "display_name": "Python [default]",
   "language": "python",
   "name": "python3"
  },
  "language_info": {
   "codemirror_mode": {
    "name": "ipython",
    "version": 3
   },
   "file_extension": ".py",
   "mimetype": "text/x-python",
   "name": "python",
   "nbconvert_exporter": "python",
   "pygments_lexer": "ipython3",
   "version": "3.5.2"
  }
 },
 "nbformat": 4,
 "nbformat_minor": 1
}

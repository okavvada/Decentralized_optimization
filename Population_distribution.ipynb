{
 "cells": [
  {
   "cell_type": "code",
   "execution_count": 4,
   "metadata": {
    "collapsed": true
   },
   "outputs": [],
   "source": [
    "import pandas as pd\n",
    "import geopandas as gpd"
   ]
  },
  {
   "cell_type": "code",
   "execution_count": 28,
   "metadata": {
    "collapsed": false
   },
   "outputs": [],
   "source": [
    "buildings_residential = gpd.read_file('all_buildings_residential_SF_elev_WGS.shp')\n",
    "tabblock = gpd.read_file('tabblock2010_06_pophu/tabblock2010_06_pophu_SF_WGS.shp')"
   ]
  },
  {
   "cell_type": "code",
   "execution_count": 29,
   "metadata": {
    "collapsed": false
   },
   "outputs": [],
   "source": [
    "buildings_block = gpd.sjoin(buildings_residential, tabblock, how=\"left\", op='intersects')"
   ]
  },
  {
   "cell_type": "code",
   "execution_count": 30,
   "metadata": {
    "collapsed": false
   },
   "outputs": [
    {
     "data": {
      "text/html": [
       "<div>\n",
       "<table border=\"1\" class=\"dataframe\">\n",
       "  <thead>\n",
       "    <tr style=\"text-align: right;\">\n",
       "      <th></th>\n",
       "      <th>AREA_m2</th>\n",
       "      <th>OBJECTID_left</th>\n",
       "      <th>OBJECTID_1</th>\n",
       "      <th>OBJECTID_2</th>\n",
       "      <th>ORIG_FID</th>\n",
       "      <th>RASTERVALU</th>\n",
       "      <th>Shape_Leng_left</th>\n",
       "      <th>area_sqfee</th>\n",
       "      <th>belowgnd</th>\n",
       "      <th>belowgndp</th>\n",
       "      <th>...</th>\n",
       "      <th>BLOCKID10</th>\n",
       "      <th>COUNTYFP10</th>\n",
       "      <th>HOUSING10</th>\n",
       "      <th>OBJECTID_right</th>\n",
       "      <th>PARTFLG</th>\n",
       "      <th>POP10</th>\n",
       "      <th>STATEFP10</th>\n",
       "      <th>Shape_Area</th>\n",
       "      <th>Shape_Leng_right</th>\n",
       "      <th>TRACTCE10</th>\n",
       "    </tr>\n",
       "  </thead>\n",
       "  <tbody>\n",
       "    <tr>\n",
       "      <th>0</th>\n",
       "      <td>1805.444103</td>\n",
       "      <td>1</td>\n",
       "      <td>1</td>\n",
       "      <td>1</td>\n",
       "      <td>0</td>\n",
       "      <td>120.883926</td>\n",
       "      <td>0.004676</td>\n",
       "      <td>19433.560849</td>\n",
       "      <td>0.0</td>\n",
       "      <td>0.0</td>\n",
       "      <td>...</td>\n",
       "      <td>060750328021006</td>\n",
       "      <td>075</td>\n",
       "      <td>62.0</td>\n",
       "      <td>1025.0</td>\n",
       "      <td>N</td>\n",
       "      <td>146.0</td>\n",
       "      <td>06</td>\n",
       "      <td>0.000002</td>\n",
       "      <td>0.005887</td>\n",
       "      <td>032802</td>\n",
       "    </tr>\n",
       "    <tr>\n",
       "      <th>1</th>\n",
       "      <td>1039.831840</td>\n",
       "      <td>2</td>\n",
       "      <td>2</td>\n",
       "      <td>2</td>\n",
       "      <td>1</td>\n",
       "      <td>121.544205</td>\n",
       "      <td>0.003455</td>\n",
       "      <td>11192.612001</td>\n",
       "      <td>0.0</td>\n",
       "      <td>0.0</td>\n",
       "      <td>...</td>\n",
       "      <td>060750328022007</td>\n",
       "      <td>075</td>\n",
       "      <td>57.0</td>\n",
       "      <td>135.0</td>\n",
       "      <td>N</td>\n",
       "      <td>168.0</td>\n",
       "      <td>06</td>\n",
       "      <td>0.000002</td>\n",
       "      <td>0.005885</td>\n",
       "      <td>032802</td>\n",
       "    </tr>\n",
       "    <tr>\n",
       "      <th>2</th>\n",
       "      <td>1659.337587</td>\n",
       "      <td>3</td>\n",
       "      <td>3</td>\n",
       "      <td>3</td>\n",
       "      <td>2</td>\n",
       "      <td>48.054523</td>\n",
       "      <td>0.004600</td>\n",
       "      <td>17860.889699</td>\n",
       "      <td>0.0</td>\n",
       "      <td>0.0</td>\n",
       "      <td>...</td>\n",
       "      <td>060750351005002</td>\n",
       "      <td>075</td>\n",
       "      <td>58.0</td>\n",
       "      <td>6307.0</td>\n",
       "      <td>N</td>\n",
       "      <td>171.0</td>\n",
       "      <td>06</td>\n",
       "      <td>0.000002</td>\n",
       "      <td>0.005892</td>\n",
       "      <td>035100</td>\n",
       "    </tr>\n",
       "    <tr>\n",
       "      <th>3</th>\n",
       "      <td>1451.413216</td>\n",
       "      <td>4</td>\n",
       "      <td>4</td>\n",
       "      <td>4</td>\n",
       "      <td>3</td>\n",
       "      <td>32.513432</td>\n",
       "      <td>0.003429</td>\n",
       "      <td>15622.819344</td>\n",
       "      <td>0.0</td>\n",
       "      <td>0.0</td>\n",
       "      <td>...</td>\n",
       "      <td>060750351005005</td>\n",
       "      <td>075</td>\n",
       "      <td>60.0</td>\n",
       "      <td>7241.0</td>\n",
       "      <td>N</td>\n",
       "      <td>153.0</td>\n",
       "      <td>06</td>\n",
       "      <td>0.000002</td>\n",
       "      <td>0.005911</td>\n",
       "      <td>035100</td>\n",
       "    </tr>\n",
       "    <tr>\n",
       "      <th>4</th>\n",
       "      <td>2434.756642</td>\n",
       "      <td>5</td>\n",
       "      <td>5</td>\n",
       "      <td>5</td>\n",
       "      <td>4</td>\n",
       "      <td>139.534668</td>\n",
       "      <td>0.004019</td>\n",
       "      <td>26207.397550</td>\n",
       "      <td>0.0</td>\n",
       "      <td>0.0</td>\n",
       "      <td>...</td>\n",
       "      <td>060750303013001</td>\n",
       "      <td>075</td>\n",
       "      <td>101.0</td>\n",
       "      <td>1899.0</td>\n",
       "      <td>N</td>\n",
       "      <td>201.0</td>\n",
       "      <td>06</td>\n",
       "      <td>0.000002</td>\n",
       "      <td>0.005904</td>\n",
       "      <td>030301</td>\n",
       "    </tr>\n",
       "  </tbody>\n",
       "</table>\n",
       "<p>5 rows × 66 columns</p>\n",
       "</div>"
      ],
      "text/plain": [
       "       AREA_m2  OBJECTID_left  OBJECTID_1  OBJECTID_2  ORIG_FID  RASTERVALU  \\\n",
       "0  1805.444103              1           1           1         0  120.883926   \n",
       "1  1039.831840              2           2           2         1  121.544205   \n",
       "2  1659.337587              3           3           3         2   48.054523   \n",
       "3  1451.413216              4           4           4         3   32.513432   \n",
       "4  2434.756642              5           5           5         4  139.534668   \n",
       "\n",
       "   Shape_Leng_left    area_sqfee  belowgnd  belowgndp    ...      \\\n",
       "0         0.004676  19433.560849       0.0        0.0    ...       \n",
       "1         0.003455  11192.612001       0.0        0.0    ...       \n",
       "2         0.004600  17860.889699       0.0        0.0    ...       \n",
       "3         0.003429  15622.819344       0.0        0.0    ...       \n",
       "4         0.004019  26207.397550       0.0        0.0    ...       \n",
       "\n",
       "         BLOCKID10  COUNTYFP10  HOUSING10  OBJECTID_right  PARTFLG  POP10  \\\n",
       "0  060750328021006         075       62.0          1025.0        N  146.0   \n",
       "1  060750328022007         075       57.0           135.0        N  168.0   \n",
       "2  060750351005002         075       58.0          6307.0        N  171.0   \n",
       "3  060750351005005         075       60.0          7241.0        N  153.0   \n",
       "4  060750303013001         075      101.0          1899.0        N  201.0   \n",
       "\n",
       "   STATEFP10  Shape_Area  Shape_Leng_right  TRACTCE10  \n",
       "0         06    0.000002          0.005887     032802  \n",
       "1         06    0.000002          0.005885     032802  \n",
       "2         06    0.000002          0.005892     035100  \n",
       "3         06    0.000002          0.005911     035100  \n",
       "4         06    0.000002          0.005904     030301  \n",
       "\n",
       "[5 rows x 66 columns]"
      ]
     },
     "execution_count": 30,
     "metadata": {},
     "output_type": "execute_result"
    }
   ],
   "source": [
    "buildings_block.head()"
   ]
  },
  {
   "cell_type": "code",
   "execution_count": 31,
   "metadata": {
    "collapsed": false
   },
   "outputs": [
    {
     "data": {
      "text/plain": [
       "Index(['BLOCKCE', 'BLOCKID10', 'COUNTYFP10', 'HOUSING10', 'OBJECTID',\n",
       "       'PARTFLG', 'POP10', 'STATEFP10', 'Shape_Area', 'Shape_Leng',\n",
       "       'TRACTCE10', 'geometry'],\n",
       "      dtype='object')"
      ]
     },
     "execution_count": 31,
     "metadata": {},
     "output_type": "execute_result"
    }
   ],
   "source": [
    "tabblock.columns"
   ]
  },
  {
   "cell_type": "code",
   "execution_count": 32,
   "metadata": {
    "collapsed": false
   },
   "outputs": [
    {
     "data": {
      "text/plain": [
       "Index(['AREA_m2', 'OBJECTID_left', 'OBJECTID_1', 'OBJECTID_2', 'ORIG_FID',\n",
       "       'RASTERVALU', 'Shape_Leng_left', 'area_sqfee', 'belowgnd', 'belowgndp',\n",
       "       'boxxsize', 'boxysize', 'boxzsize', 'brcentlat', 'brcentlon',\n",
       "       'brectarea', 'brectlen', 'brectrot', 'brectwid', 'centerlat',\n",
       "       'centerlon', 'code', 'geometry', 'latmax', 'latmin', 'lonmax', 'lonmin',\n",
       "       'maxheight', 'minheight', 'model', 'num_floor', 'numfaces', 'objname',\n",
       "       'origin84', 'originmsl', 'prcente', 'prcenth', 'prcentn', 'prmaxe',\n",
       "       'prmaxh', 'prmaxn', 'prmine', 'prminh', 'prminn', 'prsizee', 'prsizeh',\n",
       "       'prsizen', 'ruleid', 'ruleid_ds', 'usngpos', 'x_lon', 'y_lat', 'z_max',\n",
       "       'z_min', 'index_right', 'BLOCKCE', 'BLOCKID10', 'COUNTYFP10',\n",
       "       'HOUSING10', 'OBJECTID_right', 'PARTFLG', 'POP10', 'STATEFP10',\n",
       "       'Shape_Area', 'Shape_Leng_right', 'TRACTCE10'],\n",
       "      dtype='object')"
      ]
     },
     "execution_count": 32,
     "metadata": {},
     "output_type": "execute_result"
    }
   ],
   "source": [
    "buildings_block.columns"
   ]
  },
  {
   "cell_type": "code",
   "execution_count": 33,
   "metadata": {
    "collapsed": true
   },
   "outputs": [],
   "source": [
    "def demean(arr):\n",
    "    return arr/arr.sum()"
   ]
  },
  {
   "cell_type": "code",
   "execution_count": 34,
   "metadata": {
    "collapsed": false
   },
   "outputs": [],
   "source": [
    "buildings_block['percent_area'] = buildings_block['AREA_m2'].groupby(buildings_block['OBJECTID_right']).transform(demean)"
   ]
  },
  {
   "cell_type": "code",
   "execution_count": 35,
   "metadata": {
    "collapsed": false
   },
   "outputs": [],
   "source": [
    "buildings_block['building_pop'] = buildings_block['percent_area']*buildings_block['POP10']"
   ]
  },
  {
   "cell_type": "code",
   "execution_count": 43,
   "metadata": {
    "collapsed": false
   },
   "outputs": [],
   "source": [
    "buildings_block['ELEV_treat'] = buildings_block['RASTERVALU'] \n",
    "buildings_block['SUM_pop'] = buildings_block['building_pop'] \n",
    "buildings_block['OBJECTID'] = buildings_block['OBJECTID_1'] \n",
    "buildings_block['Area_m2'] = buildings_block['AREA_m2'] "
   ]
  },
  {
   "cell_type": "code",
   "execution_count": 44,
   "metadata": {
    "collapsed": false
   },
   "outputs": [],
   "source": [
    "buildings_block_new = buildings_block[['Area_m2', 'ELEV_treat', 'OBJECTID', 'SUM_pop', 'geometry', 'num_floor', 'x_lon', 'y_lat']]"
   ]
  },
  {
   "cell_type": "code",
   "execution_count": 48,
   "metadata": {
    "collapsed": true
   },
   "outputs": [],
   "source": [
    "buildings_block_new.to_csv('residential_buildings_footprint.csv')"
   ]
  },
  {
   "cell_type": "code",
   "execution_count": 49,
   "metadata": {
    "collapsed": true
   },
   "outputs": [],
   "source": [
    "buildings_block_new.to_file('residential_buildings_footprint_2.shp')"
   ]
  },
  {
   "cell_type": "code",
   "execution_count": null,
   "metadata": {
    "collapsed": true
   },
   "outputs": [],
   "source": []
  }
 ],
 "metadata": {
  "anaconda-cloud": {},
  "kernelspec": {
   "display_name": "Python [default]",
   "language": "python",
   "name": "python3"
  },
  "language_info": {
   "codemirror_mode": {
    "name": "ipython",
    "version": 3
   },
   "file_extension": ".py",
   "mimetype": "text/x-python",
   "name": "python",
   "nbconvert_exporter": "python",
   "pygments_lexer": "ipython3",
   "version": "3.5.2"
  }
 },
 "nbformat": 4,
 "nbformat_minor": 1
}

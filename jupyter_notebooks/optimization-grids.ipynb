{
 "cells": [
  {
   "cell_type": "code",
   "execution_count": 1,
   "metadata": {
    "collapsed": true
   },
   "outputs": [],
   "source": [
    "from scipy.optimize import minimize, linprog\n",
    "import numpy as np\n",
    "import geopandas as gpd\n",
    "import matplotlib.pyplot as plt"
   ]
  },
  {
   "cell_type": "code",
   "execution_count": 2,
   "metadata": {
    "collapsed": false
   },
   "outputs": [],
   "source": [
    "grid_large_join = gpd.read_file('GIS_data/grid_large_people.shp')"
   ]
  },
  {
   "cell_type": "code",
   "execution_count": 3,
   "metadata": {
    "collapsed": true
   },
   "outputs": [],
   "source": [
    "grid_large_join_2 = grid_large_join[grid_large_join['people_mea']<grid_large_join['SUM_pop']]"
   ]
  },
  {
   "cell_type": "code",
   "execution_count": 4,
   "metadata": {
    "collapsed": false
   },
   "outputs": [],
   "source": [
    "def zip_and_multiply(list1, list2):\n",
    "    return [a*b for a, b in zip(list1, list2)]"
   ]
  },
  {
   "cell_type": "code",
   "execution_count": 5,
   "metadata": {
    "collapsed": false
   },
   "outputs": [],
   "source": [
    "GHG_mean = list(grid_large_join_2['GHG_mean'])\n",
    "people_mea = list(map(int, list(grid_large_join_2['people_mea'])))\n",
    "SUM_pop = list(map(int, list((grid_large_join_2['SUM_pop']))))\n",
    "emisions_allowance = 52000\n",
    "init = [0]*len(SUM_pop)\n",
    "bounds_init = [(0, None)]*len(SUM_pop)"
   ]
  },
  {
   "cell_type": "code",
   "execution_count": null,
   "metadata": {
    "collapsed": true
   },
   "outputs": [],
   "source": []
  },
  {
   "cell_type": "code",
   "execution_count": null,
   "metadata": {
    "collapsed": true
   },
   "outputs": [],
   "source": []
  },
  {
   "cell_type": "code",
   "execution_count": 6,
   "metadata": {
    "collapsed": false
   },
   "outputs": [],
   "source": [
    "def objective_func(x): \n",
    "    func = 0\n",
    "    for i in range(len(people_mea)):\n",
    "        func+=x[i]*people_mea[i]\n",
    "    func_2 = (-1)*func\n",
    "    return func_2"
   ]
  },
  {
   "cell_type": "code",
   "execution_count": 7,
   "metadata": {
    "collapsed": false
   },
   "outputs": [],
   "source": [
    "def ineq_allowance(x): \n",
    "    func = 0\n",
    "    for i in range(len(people_mea)):\n",
    "        func += GHG_mean[i]*0.2*x[i]*people_mea[i]\n",
    "    constraint = emisions_allowance - func\n",
    "    return constraint"
   ]
  },
  {
   "cell_type": "code",
   "execution_count": 7,
   "metadata": {
    "collapsed": true
   },
   "outputs": [],
   "source": [
    "def constfun_ineq(i):\n",
    "    def helper(x):\n",
    "        return -x[i]*people_mea[i] + SUM_pop[i]\n",
    "    return helper"
   ]
  },
  {
   "cell_type": "code",
   "execution_count": 8,
   "metadata": {
    "collapsed": false
   },
   "outputs": [],
   "source": [
    "cons = []\n",
    "for i in range(len(SUM_pop)):\n",
    "    tot_people = {'type': 'ineq', 'fun': constfun_ineq(i)}\n",
    "    cons.append(tot_people)\n",
    "emis_allow = {'type': 'ineq', 'fun': lambda x: ineq_allowance(x)}\n",
    "cons.append(emis_allow)"
   ]
  },
  {
   "cell_type": "code",
   "execution_count": 9,
   "metadata": {
    "collapsed": false
   },
   "outputs": [],
   "source": [
    "res = minimize(objective_func, init, method='SLSQP', bounds=bounds_init, constraints=cons)"
   ]
  },
  {
   "cell_type": "code",
   "execution_count": 10,
   "metadata": {
    "collapsed": false
   },
   "outputs": [],
   "source": [
    "x_result = res.x"
   ]
  },
  {
   "cell_type": "code",
   "execution_count": 11,
   "metadata": {
    "collapsed": false
   },
   "outputs": [
    {
     "name": "stderr",
     "output_type": "stream",
     "text": [
      "C:\\Users\\Olga\\Anaconda3\\lib\\site-packages\\ipykernel\\__main__.py:1: SettingWithCopyWarning: \n",
      "A value is trying to be set on a copy of a slice from a DataFrame.\n",
      "Try using .loc[row_indexer,col_indexer] = value instead\n",
      "\n",
      "See the caveats in the documentation: http://pandas.pydata.org/pandas-docs/stable/indexing.html#indexing-view-versus-copy\n",
      "  if __name__ == '__main__':\n",
      "C:\\Users\\Olga\\Anaconda3\\lib\\site-packages\\ipykernel\\__main__.py:2: SettingWithCopyWarning: \n",
      "A value is trying to be set on a copy of a slice from a DataFrame.\n",
      "Try using .loc[row_indexer,col_indexer] = value instead\n",
      "\n",
      "See the caveats in the documentation: http://pandas.pydata.org/pandas-docs/stable/indexing.html#indexing-view-versus-copy\n",
      "  from ipykernel import kernelapp as app\n"
     ]
    }
   ],
   "source": [
    "grid_large_join_2['x_result'] = x_result\n",
    "grid_large_join_2['people_serve'] = grid_large_join_2['x_result']*grid_large_join_2['people_mea']"
   ]
  },
  {
   "cell_type": "code",
   "execution_count": 218,
   "metadata": {
    "collapsed": false
   },
   "outputs": [],
   "source": [
    "grid_large_join_2.to_file('GIS_data/grid_large_people_served.shp')"
   ]
  },
  {
   "cell_type": "code",
   "execution_count": null,
   "metadata": {
    "collapsed": true
   },
   "outputs": [],
   "source": []
  },
  {
   "cell_type": "markdown",
   "metadata": {},
   "source": [
    "# Linear Optimization"
   ]
  },
  {
   "cell_type": "code",
   "execution_count": 6,
   "metadata": {
    "collapsed": false
   },
   "outputs": [],
   "source": [
    "C = [i * (-0.1) for i in people_mea]"
   ]
  },
  {
   "cell_type": "code",
   "execution_count": 7,
   "metadata": {
    "collapsed": true
   },
   "outputs": [],
   "source": [
    "people_mea_person = [i * 0.1 for i in people_mea]"
   ]
  },
  {
   "cell_type": "code",
   "execution_count": 8,
   "metadata": {
    "collapsed": true
   },
   "outputs": [],
   "source": [
    "A=[zip_and_multiply(GHG_mean,people_mea_person)]"
   ]
  },
  {
   "cell_type": "code",
   "execution_count": 9,
   "metadata": {
    "collapsed": true
   },
   "outputs": [],
   "source": [
    "array_emissions = []\n",
    "array_water = []"
   ]
  },
  {
   "cell_type": "code",
   "execution_count": 10,
   "metadata": {
    "collapsed": false
   },
   "outputs": [],
   "source": [
    "b = 29600"
   ]
  },
  {
   "cell_type": "code",
   "execution_count": 11,
   "metadata": {
    "collapsed": false
   },
   "outputs": [],
   "source": [
    "max_systems = [a/b for a, b in zip(SUM_pop, people_mea)]"
   ]
  },
  {
   "cell_type": "code",
   "execution_count": 12,
   "metadata": {
    "collapsed": false
   },
   "outputs": [],
   "source": [
    "bounds_init = [(0, i) for i in max_systems]"
   ]
  },
  {
   "cell_type": "code",
   "execution_count": 13,
   "metadata": {
    "collapsed": false
   },
   "outputs": [
    {
     "name": "stdout",
     "output_type": "stream",
     "text": [
      "Optimization terminated successfully.\n",
      "         Current function value: -114955.250446\n",
      "         Iterations: 124\n"
     ]
    }
   ],
   "source": [
    "res = linprog(C, A_ub=A, b_ub=b, bounds=bounds_init, options={\"disp\": True})"
   ]
  },
  {
   "cell_type": "code",
   "execution_count": 14,
   "metadata": {
    "collapsed": false
   },
   "outputs": [],
   "source": [
    "people_served = [a*b for a, b in zip(res.x, people_mea)]"
   ]
  },
  {
   "cell_type": "code",
   "execution_count": 15,
   "metadata": {
    "collapsed": false
   },
   "outputs": [
    {
     "name": "stderr",
     "output_type": "stream",
     "text": [
      "C:\\Users\\Olga\\Anaconda3\\lib\\site-packages\\ipykernel\\__main__.py:1: SettingWithCopyWarning: \n",
      "A value is trying to be set on a copy of a slice from a DataFrame.\n",
      "Try using .loc[row_indexer,col_indexer] = value instead\n",
      "\n",
      "See the caveats in the documentation: http://pandas.pydata.org/pandas-docs/stable/indexing.html#indexing-view-versus-copy\n",
      "  if __name__ == '__main__':\n"
     ]
    }
   ],
   "source": [
    "grid_large_join_2['people_serve'] = people_served"
   ]
  },
  {
   "cell_type": "code",
   "execution_count": 245,
   "metadata": {
    "collapsed": true
   },
   "outputs": [],
   "source": [
    "grid_large_join_2.to_file('GIS_data/grid_large_people_served.shp')"
   ]
  },
  {
   "cell_type": "code",
   "execution_count": null,
   "metadata": {
    "collapsed": true
   },
   "outputs": [],
   "source": []
  },
  {
   "cell_type": "markdown",
   "metadata": {},
   "source": [
    "# Graph"
   ]
  },
  {
   "cell_type": "code",
   "execution_count": 16,
   "metadata": {
    "collapsed": false
   },
   "outputs": [],
   "source": [
    "array_emissions = []\n",
    "array_water = []\n",
    "b = 15000\n",
    "num_people =836620\n",
    "C = [i * (-0.1) for i in people_mea]\n",
    "people_mea_person = [i * 0.1 for i in people_mea]\n",
    "A=[zip_and_multiply(GHG_mean,people_mea_person)]\n",
    "max_systems = [a/b for a, b in zip(SUM_pop, people_mea)]\n",
    "bounds_init = [(0, i) for i in max_systems]"
   ]
  },
  {
   "cell_type": "code",
   "execution_count": 17,
   "metadata": {
    "collapsed": false
   },
   "outputs": [
    {
     "name": "stdout",
     "output_type": "stream",
     "text": [
      "Optimization terminated successfully.\n",
      "         Current function value: -73630.046111\n",
      "         Iterations: 53\n"
     ]
    }
   ],
   "source": [
    "init = linprog(C, A_ub=A, b_ub=b, bounds=bounds_init, options={\"disp\": True})"
   ]
  },
  {
   "cell_type": "code",
   "execution_count": 18,
   "metadata": {
    "collapsed": true
   },
   "outputs": [],
   "source": [
    "initial_capacity = 132700\n",
    "initial_value = b/num_people"
   ]
  },
  {
   "cell_type": "code",
   "execution_count": 19,
   "metadata": {
    "collapsed": false
   },
   "outputs": [
    {
     "name": "stdout",
     "output_type": "stream",
     "text": [
      "Optimization terminated successfully.\n",
      "         Current function value: -73630.046111\n",
      "         Iterations: 53\n",
      "Optimization terminated successfully.\n",
      "         Current function value: -83365.860620\n",
      "         Iterations: 64\n",
      "Optimization terminated successfully.\n",
      "         Current function value: -92448.046636\n",
      "         Iterations: 76\n",
      "Optimization terminated successfully.\n",
      "         Current function value: -100778.917923\n",
      "         Iterations: 95\n",
      "Optimization terminated successfully.\n",
      "         Current function value: -108594.258761\n",
      "         Iterations: 115\n",
      "Optimization terminated successfully.\n",
      "         Current function value: -115911.978557\n",
      "         Iterations: 127\n",
      "Optimization terminated successfully.\n",
      "         Current function value: -122752.731947\n",
      "         Iterations: 141\n",
      "Optimization terminated successfully.\n",
      "         Current function value: -128886.831838\n",
      "         Iterations: 147\n",
      "Optimization terminated successfully.\n",
      "         Current function value: -132779.400000\n",
      "         Iterations: 152\n",
      "Optimization terminated successfully.\n",
      "         Current function value: -132779.400000\n",
      "         Iterations: 152\n",
      "Optimization terminated successfully.\n",
      "         Current function value: -132779.400000\n",
      "         Iterations: 152\n",
      "Optimization terminated successfully.\n",
      "         Current function value: -132779.400000\n",
      "         Iterations: 152\n",
      "Optimization terminated successfully.\n",
      "         Current function value: -132779.400000\n",
      "         Iterations: 152\n",
      "Optimization terminated successfully.\n",
      "         Current function value: -132779.400000\n",
      "         Iterations: 152\n",
      "Optimization terminated successfully.\n",
      "         Current function value: -132779.400000\n",
      "         Iterations: 152\n"
     ]
    }
   ],
   "source": [
    "for i in range(10, 40, 2):\n",
    "    emissions = b*i/10\n",
    "    res = linprog(C, A_ub=A, b_ub=emissions, bounds=bounds_init, options={\"disp\": True})\n",
    "    store = res.fun*(-1)\n",
    "    array_emissions.append(i/10)\n",
    "    array_water.append(store)"
   ]
  },
  {
   "cell_type": "code",
   "execution_count": 20,
   "metadata": {
    "collapsed": false
   },
   "outputs": [],
   "source": [
    "array_increase = [(i/initial_capacity)*100 for i in array_water]\n",
    "array_emiss_increase = [(i-1)*100 for i in array_emissions]"
   ]
  },
  {
   "cell_type": "code",
   "execution_count": 31,
   "metadata": {
    "collapsed": false
   },
   "outputs": [
    {
     "data": {
      "image/png": "[encoded data removed]",
      "text/plain": [
       "<matplotlib.figure.Figure at 0xee67d2d4e0>"
      ]
     },
     "metadata": {},
     "output_type": "display_data"
    }
   ],
   "source": [
    "plt.figure(figsize=(7,4))\n",
    "plt.scatter(array_emiss_increase,array_increase, s=40, color = 'b', alpha=0.6)\n",
    "plt.plot(array_emiss_increase,array_increase, linestyle = '--', color='b', alpha=0.6)\n",
    "plt.xlabel('Percent increase in GHG emissions \\n per person allowance (%)', fontsize = 14)\n",
    "plt.ylabel('Percent of total \\n non potable water saved (%)',  fontsize = 14)\n",
    "plt.xlim(-5,310)\n",
    "plt.ylim(30,110)\n",
    "plt.xticks(fontsize = 12)\n",
    "plt.yticks(fontsize = 12)\n",
    "plt.show()"
   ]
  },
  {
   "cell_type": "code",
   "execution_count": null,
   "metadata": {
    "collapsed": true
   },
   "outputs": [],
   "source": []
  }
 ],
 "metadata": {
  "anaconda-cloud": {},
  "kernelspec": {
   "display_name": "Python [default]",
   "language": "python",
   "name": "python3"
  },
  "language_info": {
   "codemirror_mode": {
    "name": "ipython",
    "version": 3
   },
   "file_extension": ".py",
   "mimetype": "text/x-python",
   "name": "python",
   "nbconvert_exporter": "python",
   "pygments_lexer": "ipython3",
   "version": "3.5.2"
  }
 },
 "nbformat": 4,
 "nbformat_minor": 1
}
